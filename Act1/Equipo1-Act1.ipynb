{
 "cells": [
  {
   "cell_type": "markdown",
   "metadata": {},
   "source": [
    "# Actividad Integradora 1\n",
    "\n",
    "Construccion de un modelo de regressión lineal de los datos obtenidos de la grafica de \"Total Cases\" de https://www.worldometers.info/coronavirus/\n",
    "\n",
    "## Recolección de datos\n",
    "Utilizando beautiful soup, realizamos un scrapping de los datos"
   ]
  },
  {
   "cell_type": "code",
   "execution_count": 1,
   "metadata": {},
   "outputs": [],
   "source": [
    "import json\n",
    "import requests\n",
    "from bs4 import BeautifulSoup\n",
    "from slimit import ast\n",
    "from slimit import minify\n",
    "import pandas as pd\n",
    "\n",
    "headers = {'User-Agent': 'Mozilla/5.0'}\n",
    "URL = 'https://www.worldometers.info/coronavirus/'\n",
    "\n",
    "page = requests.get(URL, headers=headers)\n",
    "soup = BeautifulSoup(page.content, 'html.parser')\n",
    "contents = soup.find_all('script',type=\"text/javascript\")\n"
   ]
  },
  {
   "cell_type": "code",
   "execution_count": 4,
   "metadata": {},
   "outputs": [
    {
     "ename": "NameError",
     "evalue": "name 'values1' is not defined",
     "output_type": "error",
     "traceback": [
      "\u001b[0;31m---------------------------------------------------------------------------\u001b[0m",
      "\u001b[0;31mNameError\u001b[0m                                 Traceback (most recent call last)",
      "\u001b[0;32m<ipython-input-4-51bbe4c20e32>\u001b[0m in \u001b[0;36m<module>\u001b[0;34m\u001b[0m\n\u001b[1;32m     13\u001b[0m       \u001b[0mvalues2\u001b[0m \u001b[0;34m=\u001b[0m \u001b[0mvalues2\u001b[0m\u001b[0;34m[\u001b[0m\u001b[0;34m:\u001b[0m\u001b[0;34m-\u001b[0m\u001b[0;36m1\u001b[0m\u001b[0;34m]\u001b[0m\u001b[0;34m\u001b[0m\u001b[0;34m\u001b[0m\u001b[0m\n\u001b[1;32m     14\u001b[0m \u001b[0;34m\u001b[0m\u001b[0m\n\u001b[0;32m---> 15\u001b[0;31m \u001b[0mprint\u001b[0m\u001b[0;34m(\u001b[0m\u001b[0mvalues1\u001b[0m\u001b[0;34m)\u001b[0m\u001b[0;34m\u001b[0m\u001b[0;34m\u001b[0m\u001b[0m\n\u001b[0m\u001b[1;32m     16\u001b[0m \u001b[0mprint\u001b[0m\u001b[0;34m(\u001b[0m\u001b[0mvalues2\u001b[0m\u001b[0;34m)\u001b[0m\u001b[0;34m\u001b[0m\u001b[0;34m\u001b[0m\u001b[0m\n",
      "\u001b[0;31mNameError\u001b[0m: name 'values1' is not defined"
     ]
    }
   ],
   "source": [
    "i = 1\n",
    "for content in contents:\n",
    "    if(content.text):\n",
    "      text = str(content.text)\n",
    "      i += 1\n",
    "      if \"Daily Cases\" not in text:\n",
    "        continue\n",
    "      table = minify(text, mangle=True, mangle_toplevel=True)\n",
    "      table = table.split(':')\n",
    "      values1 = table[8].replace(\"\\\"\",\"\").replace(\"]\",\"\").replace(\"[\",\"\").replace(\"{\",\"\").replace(\"}\",\"\").split(\",\")\n",
    "      values2 = table[22].replace(\"\\\"\",\"\").replace(\"]\",\"\").replace(\"[\",\"\").replace(\"{\",\"\").replace(\"}\",\"\").split(\",\")\n",
    "      values1 = values1[:-1]\n",
    "      values2 = values2[:-1]\n",
    "\n",
    "print(values1)\n",
    "print(values2)"
   ]
  },
  {
   "cell_type": "markdown",
   "metadata": {},
   "source": [
    "# Regression lineal\n"
   ]
  },
  {
   "cell_type": "code",
   "execution_count": null,
   "metadata": {},
   "outputs": [],
   "source": []
  },
  {
   "cell_type": "code",
   "execution_count": null,
   "metadata": {},
   "outputs": [],
   "source": []
  },
  {
   "cell_type": "markdown",
   "metadata": {},
   "source": [
    "**© Equipo 1**\n",
    "- Paulina Cámara A01039839\n",
    "- Nom Mat\n",
    "- Nom Mat\n",
    "- Nom Mat\n",
    "- Nom Mat"
   ]
  }
 ],
 "metadata": {
  "kernelspec": {
   "display_name": "Python 3",
   "language": "python",
   "name": "python3"
  },
  "language_info": {
   "codemirror_mode": {
    "name": "ipython",
    "version": 3
   },
   "file_extension": ".py",
   "mimetype": "text/x-python",
   "name": "python",
   "nbconvert_exporter": "python",
   "pygments_lexer": "ipython3",
   "version": "3.9.1"
  }
 },
 "nbformat": 4,
 "nbformat_minor": 4
}

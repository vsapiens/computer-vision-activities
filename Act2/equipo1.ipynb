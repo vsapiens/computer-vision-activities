{
 "cells": [
  {
   "cell_type": "markdown",
   "metadata": {},
   "source": [
    "# Actividad Integradora 2"
   ]
  },
  {
   "cell_type": "code",
   "execution_count": 2,
   "metadata": {
    "colab": {
     "base_uri": "https://localhost:8080/"
    },
    "id": "RjO-rC6OMr4X",
    "outputId": "cff02237-89cd-4ece-d663-ccca0d28c16e"
   },
   "outputs": [
    {
     "name": "stdout",
     "output_type": "stream",
     "text": [
      "Requirement already satisfied: selenium in /home/carlos/anaconda3/envs/computer_vision/lib/python3.7/site-packages (3.141.0)\n",
      "Requirement already satisfied: urllib3 in /home/carlos/anaconda3/envs/computer_vision/lib/python3.7/site-packages (from selenium) (1.26.2)\n",
      "Reading package lists... Done\n",
      "N: Ignoring file 'brave-browser-release.lis' in directory '/etc/apt/sources.list.d/' as it has an invalid filename extension\n",
      "E: Could not open lock file /var/lib/apt/lists/lock - open (13: Permission denied)\n",
      "E: Unable to lock directory /var/lib/apt/lists/\n",
      "W: Problem unlinking the file /var/cache/apt/pkgcache.bin - RemoveCaches (13: Permission denied)\n",
      "W: Problem unlinking the file /var/cache/apt/srcpkgcache.bin - RemoveCaches (13: Permission denied)\n",
      "\u001b[33mN: \u001b[0mIgnoring file 'brave-browser-release.lis' in directory '/etc/apt/sources.list.d/' as it has an invalid filename extension\u001b[0m\n",
      "\u001b[1;31mE: \u001b[0mCould not open lock file /var/lib/dpkg/lock-frontend - open (13: Permission denied)\u001b[0m\n",
      "\u001b[1;31mE: \u001b[0mUnable to acquire the dpkg frontend lock (/var/lib/dpkg/lock-frontend), are you root?\u001b[0m\n",
      "cp: cannot stat '/usr/lib/chromium-browser/chromedriver': No such file or directory\n"
     ]
    }
   ],
   "source": [
    "!pip install selenium\n",
    "!apt-get update # to update ubuntu to correctly run apt install\n",
    "!apt install chromium-chromedriver\n",
    "!cp /usr/lib/chromium-browser/chromedriver /usr/bin\n",
    "#!pip install -U opencv-python\n"
   ]
  },
  {
   "cell_type": "code",
   "execution_count": 5,
   "metadata": {
    "colab": {
     "base_uri": "https://localhost:8080/"
    },
    "id": "sPI6cXoQNKj1",
    "outputId": "10d920ac-6017-4caa-ce83-7b6d7fc31027"
   },
   "outputs": [
    {
     "name": "stdout",
     "output_type": "stream",
     "text": [
      "Escribe la palabra que quieres guardar\n",
      "tiger\n",
      "Aproximadamente cuantas paginas deseas escanear\n",
      "20\n",
      "380\n"
     ]
    }
   ],
   "source": [
    "import sys\n",
    "import math\n",
    "import subprocess\n",
    "sys.path.insert(0,'/usr/lib/chromium-browser/chromedriver')\n",
    "from selenium import webdriver\n",
    "options = webdriver.ChromeOptions()\n",
    "options.add_argument('-headless')\n",
    "options.add_argument('-no-sandbox')\n",
    "options.add_argument('-disable-dev-shm-usage')\n",
    "driver = webdriver.Chrome('chromedriver',options=options)\n",
    "\n",
    "print(\"Escribe la palabra que quieres guardar\")\n",
    "word = input()\n",
    "print(\"Aproximadamente cuantas paginas deseas escanear\")\n",
    "length = int(input())\n",
    "\n",
    "links = []\n",
    "# Search in the images all the information that is needed\n",
    "for x in range(1,math.floor(length)):\n",
    "  url = 'https://www.shutterstock.com/search/%s?image_type=photo&safe=off&page=%d' % (word, x)\n",
    "  driver.get(url)\n",
    "  images= driver.find_elements_by_tag_name('img')\n",
    "  for image in images:\n",
    "      src = image.get_attribute('src')\n",
    "      if src != None:\n",
    "        links.append(src)\n",
    "\n",
    "# Get Length of the url from the Images and divide it 80/20\n",
    "print(len(links))\n",
    "bound = math.floor((len(links)*.8))\n",
    "trainSet,testSet = links[:bound],links[bound:]\n",
    "# Curl all the images and divide it in different packages\n",
    "# Save images in the folders\n",
    "for train in trainSet:\n",
    "  url = \"wget -P train/%s/ %s\" % (word,train)\n",
    "  subprocess.call(url.split())\n",
    "for test in testSet:\n",
    "  url = \"wget -P test/%s/ %s\" % (word,test)\n",
    "  subprocess.call(url.split())\n",
    "\n"
   ]
  },
  {
   "cell_type": "markdown",
   "metadata": {},
   "source": [
    "**© Equipo 1**\n",
    "- Paulina Cámara Vidales A01039839\n",
    "- Melba Geraldine Consuelos Fernández A01410921\n",
    "- Erick Francisco González Martínez A01039859\n",
    "- Kevin Dueñas Aguirre A01283104\n",
    "- Carlos Javier Barragán Carrión A01410357"
   ]
  }
 ],
 "metadata": {
  "colab": {
   "collapsed_sections": [],
   "name": "ActividadIntegradora2.ipynb",
   "provenance": [],
   "toc_visible": true
  },
  "kernelspec": {
   "display_name": "Python 3",
   "language": "python",
   "name": "python3"
  },
  "language_info": {
   "codemirror_mode": {
    "name": "ipython",
    "version": 3
   },
   "file_extension": ".py",
   "mimetype": "text/x-python",
   "name": "python",
   "nbconvert_exporter": "python",
   "pygments_lexer": "ipython3",
   "version": "3.7.9"
  }
 },
 "nbformat": 4,
 "nbformat_minor": 4
}
